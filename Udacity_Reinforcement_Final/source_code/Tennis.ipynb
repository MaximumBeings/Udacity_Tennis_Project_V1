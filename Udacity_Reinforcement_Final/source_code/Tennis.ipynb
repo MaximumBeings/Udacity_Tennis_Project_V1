{
 "cells": [
  {
   "cell_type": "markdown",
   "metadata": {},
   "source": [
    "# Collaboration and Competition\n",
    "\n",
    "---\n",
    "\n",
    "In this notebook, you will learn how to use the Unity ML-Agents environment for the third project of the [Deep Reinforcement Learning Nanodegree](https://www.udacity.com/course/deep-reinforcement-learning-nanodegree--nd893) program.\n",
    "\n",
    "### 1. Start the Environment\n",
    "\n",
    "We begin by importing the necessary packages.  If the code cell below returns an error, please revisit the project instructions to double-check that you have installed [Unity ML-Agents](https://github.com/Unity-Technologies/ml-agents/blob/master/docs/Installation.md) and [NumPy](http://www.numpy.org/)."
   ]
  },
  {
   "cell_type": "code",
   "execution_count": 3,
   "metadata": {},
   "outputs": [],
   "source": [
    "from unityagents import UnityEnvironment\n",
    "import numpy as np\n",
    "import torch as T\n",
    "import random\n",
    "import pandas as pd\n",
    "import matplotlib.pyplot as plt\n",
    "from collections import deque\n",
    "from maddpg3 import MADDPG"
   ]
  },
  {
   "cell_type": "markdown",
   "metadata": {},
   "source": [
    "Next, we will start the environment!  **_Before running the code cell below_**, change the `file_name` parameter to match the location of the Unity environment that you downloaded.\n",
    "\n",
    "- **Mac**: `\"path/to/Tennis.app\"`\n",
    "- **Windows** (x86): `\"path/to/Tennis_Windows_x86/Tennis.exe\"`\n",
    "- **Windows** (x86_64): `\"path/to/Tennis_Windows_x86_64/Tennis.exe\"`\n",
    "- **Linux** (x86): `\"path/to/Tennis_Linux/Tennis.x86\"`\n",
    "- **Linux** (x86_64): `\"path/to/Tennis_Linux/Tennis.x86_64\"`\n",
    "- **Linux** (x86, headless): `\"path/to/Tennis_Linux_NoVis/Tennis.x86\"`\n",
    "- **Linux** (x86_64, headless): `\"path/to/Tennis_Linux_NoVis/Tennis.x86_64\"`\n",
    "\n",
    "For instance, if you are using a Mac, then you downloaded `Tennis.app`.  If this file is in the same folder as the notebook, then the line below should appear as follows:\n",
    "```\n",
    "env = UnityEnvironment(file_name=\"Tennis.app\")\n",
    "```"
   ]
  },
  {
   "cell_type": "code",
   "execution_count": 4,
   "metadata": {},
   "outputs": [
    {
     "name": "stderr",
     "output_type": "stream",
     "text": [
      "INFO:unityagents:\n",
      "'Academy' started successfully!\n",
      "Unity Academy name: Academy\n",
      "        Number of Brains: 1\n",
      "        Number of External Brains : 1\n",
      "        Lesson number : 0\n",
      "        Reset Parameters :\n",
      "\t\t\n",
      "Unity brain name: TennisBrain\n",
      "        Number of Visual Observations (per agent): 0\n",
      "        Vector Observation space type: continuous\n",
      "        Vector Observation space size (per agent): 8\n",
      "        Number of stacked Vector Observation: 3\n",
      "        Vector Action space type: continuous\n",
      "        Vector Action space size (per agent): 2\n",
      "        Vector Action descriptions: , \n"
     ]
    }
   ],
   "source": [
    "env = UnityEnvironment(file_name=\"Tennis.app\")"
   ]
  },
  {
   "cell_type": "markdown",
   "metadata": {},
   "source": [
    "Environments contain **_brains_** which are responsible for deciding the actions of their associated agents. Here we check for the first brain available, and set it as the default brain we will be controlling from Python."
   ]
  },
  {
   "cell_type": "code",
   "execution_count": 5,
   "metadata": {},
   "outputs": [],
   "source": [
    "# get the default brain\n",
    "brain_name = env.brain_names[0]\n",
    "brain = env.brains[brain_name]"
   ]
  },
  {
   "cell_type": "markdown",
   "metadata": {},
   "source": [
    "### 2. Examine the State and Action Spaces\n",
    "\n",
    "In this environment, two agents control rackets to bounce a ball over a net. If an agent hits the ball over the net, it receives a reward of +0.1.  If an agent lets a ball hit the ground or hits the ball out of bounds, it receives a reward of -0.01.  Thus, the goal of each agent is to keep the ball in play.\n",
    "\n",
    "The observation space consists of 8 variables corresponding to the position and velocity of the ball and racket. Two continuous actions are available, corresponding to movement toward (or away from) the net, and jumping. \n",
    "\n",
    "Run the code cell below to print some information about the environment."
   ]
  },
  {
   "cell_type": "code",
   "execution_count": 6,
   "metadata": {},
   "outputs": [
    {
     "name": "stdout",
     "output_type": "stream",
     "text": [
      "Number of agents: 2\n",
      "Size of each action: 2\n",
      "There are 2 agents. Each observes a state with length: 24\n",
      "The state for the first agent looks like: [ 0.          0.          0.          0.          0.          0.\n",
      "  0.          0.          0.          0.          0.          0.\n",
      "  0.          0.          0.          0.         -6.65278625 -1.5\n",
      " -0.          0.          6.83172083  6.         -0.          0.        ]\n"
     ]
    }
   ],
   "source": [
    "# reset the environment\n",
    "env_info = env.reset(train_mode=True)[brain_name]\n",
    "\n",
    "# number of agents \n",
    "num_agents = len(env_info.agents)\n",
    "print('Number of agents:', num_agents)\n",
    "\n",
    "# size of each action\n",
    "action_size = brain.vector_action_space_size\n",
    "print('Size of each action:', action_size)\n",
    "\n",
    "# examine the state space \n",
    "states = env_info.vector_observations\n",
    "state_size = states.shape[1]\n",
    "print('There are {} agents. Each observes a state with length: {}'.format(states.shape[0], state_size))\n",
    "print('The state for the first agent looks like:', states[0])"
   ]
  },
  {
   "cell_type": "markdown",
   "metadata": {},
   "source": [
    "### 3. Take Random Actions in the Environment\n",
    "\n",
    "In the next code cell, you will learn how to use the Python API to control the agents and receive feedback from the environment.\n",
    "\n",
    "Once this cell is executed, you will watch the agents' performance, if they select actions at random with each time step.  A window should pop up that allows you to observe the agents.\n",
    "\n",
    "Of course, as part of the project, you'll have to change the code so that the agents are able to use their experiences to gradually choose better actions when interacting with the environment!"
   ]
  },
  {
   "cell_type": "code",
   "execution_count": 7,
   "metadata": {},
   "outputs": [],
   "source": [
    "# for i in range(1, 6):                                      # play game for 5 episodes\n",
    "#     env_info = env.reset(train_mode=False)[brain_name]     # reset the environment    \n",
    "#     states = env_info.vector_observations                  # get the current state (for each agent)\n",
    "#     scores = np.zeros(num_agents)                          # initialize the score (for each agent)\n",
    "#     while True:\n",
    "#         actions = np.random.randn(num_agents, action_size) # select an action (for each agent)\n",
    "#         actions = np.clip(actions, -1, 1)                  # all actions between -1 and 1\n",
    "#         env_info = env.step(actions)[brain_name]           # send all actions to tne environment\n",
    "#         next_states = env_info.vector_observations         # get next state (for each agent)\n",
    "#         rewards = env_info.rewards                         # get reward (for each agent)\n",
    "#         dones = env_info.local_done                        # see if episode finished\n",
    "#         scores += env_info.rewards                         # update the score (for each agent)\n",
    "#         states = next_states                               # roll over states to next time step\n",
    "#         if np.any(dones):                                  # exit loop if episode finished\n",
    "#             break\n",
    "#     print('Score (max over agents) from episode {}: {}'.format(i, np.max(scores)))"
   ]
  },
  {
   "cell_type": "markdown",
   "metadata": {},
   "source": [
    "When finished, you can close the environment."
   ]
  },
  {
   "cell_type": "markdown",
   "metadata": {},
   "source": [
    "### 4. It's Your Turn!\n",
    "\n",
    "Now it's your turn to train your own agent to solve the environment!  When training the environment, set `train_mode=True`, so that the line for resetting the environment looks like the following:\n",
    "```python\n",
    "env_info = env.reset(train_mode=True)[brain_name]\n",
    "```"
   ]
  },
  {
   "cell_type": "code",
   "execution_count": 8,
   "metadata": {},
   "outputs": [
    {
     "name": "stdout",
     "output_type": "stream",
     "text": [
      "There are 2 agents. Each observes a state with length: 24\n",
      "Size of each action: 2\n",
      "Random Seed: 2\n"
     ]
    }
   ],
   "source": [
    "states = env_info.vector_observations\n",
    "state_dim = states.shape[1]\n",
    "print('There are {} agents. Each observes a state with length: {}'.format(states.shape[0], state_size))\n",
    "\n",
    "action_dim = brain.vector_action_space_size\n",
    "print('Size of each action:', action_size)\n",
    "\n",
    "random_seed = 100\n",
    "print('Random Seed:', action_size)\n"
   ]
  },
  {
   "cell_type": "code",
   "execution_count": 9,
   "metadata": {},
   "outputs": [],
   "source": [
    "agents = MADDPG(num_agents, state_dim, action_dim, random_seed)\n"
   ]
  },
  {
   "cell_type": "code",
   "execution_count": 10,
   "metadata": {},
   "outputs": [],
   "source": [
    "def train():\n",
    "    scores_deque = deque(maxlen=100)\n",
    "    scores = []\n",
    "    for x in range(1, 1000+1):\n",
    "        env_info = env.reset(train_mode=True)[brain_name]\n",
    "        states = env_info.vector_observations\n",
    "        agents.reset()\n",
    "        scores_episode = np.zeros(num_agents)\n",
    "        \n",
    "        while True:\n",
    "            actions = agents.act(states)\n",
    "            env_info = env.step(actions)[brain_name]\n",
    "            next_states = env_info.vector_observations\n",
    "            rewards = env_info.rewards\n",
    "            dones = env_info.local_done\n",
    "            agents.step(states, actions, rewards, next_states, dones)\n",
    "            scores_episode += rewards\n",
    "            states = next_states\n",
    "            \n",
    "            if np.any(dones):\n",
    "                break\n",
    "        score = np.max(scores_episode)\n",
    "        scores_deque.append(score)\n",
    "        scores.append(score)\n",
    "        \n",
    "        print(f'Episode: {x} \\tAverage Score {np.mean(scores_deque):.4f} \\tCurrent Score: {score:.4f}')\n",
    "        \n",
    "        if x % 100 == 0:\n",
    "            print(f'Episode: {x} \\tAverage Score {np.mean(scores_deque):.4f} \\tCurrent Score: {score:.4f}')\n",
    "            agents.saveCheckPoints(False)\n",
    "            \n",
    "        if np.mean(scores_deque) >= 0.5:\n",
    "            agents.saveCheckPoints(True)\n",
    "            break\n",
    "    return scores\n",
    "            "
   ]
  },
  {
   "cell_type": "code",
   "execution_count": 29,
   "metadata": {},
   "outputs": [
    {
     "name": "stdout",
     "output_type": "stream",
     "text": [
      "Episode: 1 \tAverage Score 0.2000 \tCurrent Score: 0.2000\n",
      "Episode: 2 \tAverage Score 0.1500 \tCurrent Score: 0.1000\n",
      "Episode: 3 \tAverage Score 0.1333 \tCurrent Score: 0.1000\n",
      "Episode: 4 \tAverage Score 0.1000 \tCurrent Score: 0.0000\n",
      "Episode: 5 \tAverage Score 0.0800 \tCurrent Score: 0.0000\n",
      "Episode: 6 \tAverage Score 0.0833 \tCurrent Score: 0.1000\n",
      "Episode: 7 \tAverage Score 0.0714 \tCurrent Score: 0.0000\n",
      "Episode: 8 \tAverage Score 0.0738 \tCurrent Score: 0.0900\n",
      "Episode: 9 \tAverage Score 0.0656 \tCurrent Score: 0.0000\n",
      "Episode: 10 \tAverage Score 0.0690 \tCurrent Score: 0.1000\n",
      "Episode: 11 \tAverage Score 0.0709 \tCurrent Score: 0.0900\n",
      "Episode: 12 \tAverage Score 0.0725 \tCurrent Score: 0.0900\n",
      "Episode: 13 \tAverage Score 0.0738 \tCurrent Score: 0.0900\n",
      "Episode: 14 \tAverage Score 0.0750 \tCurrent Score: 0.0900\n",
      "Episode: 15 \tAverage Score 0.0760 \tCurrent Score: 0.0900\n",
      "Episode: 16 \tAverage Score 0.0775 \tCurrent Score: 0.1000\n",
      "Episode: 17 \tAverage Score 0.0729 \tCurrent Score: 0.0000\n",
      "Episode: 18 \tAverage Score 0.0739 \tCurrent Score: 0.0900\n",
      "Episode: 19 \tAverage Score 0.0747 \tCurrent Score: 0.0900\n",
      "Episode: 20 \tAverage Score 0.0710 \tCurrent Score: 0.0000\n",
      "Episode: 21 \tAverage Score 0.0676 \tCurrent Score: 0.0000\n",
      "Episode: 22 \tAverage Score 0.0645 \tCurrent Score: 0.0000\n",
      "Episode: 23 \tAverage Score 0.0617 \tCurrent Score: 0.0000\n",
      "Episode: 24 \tAverage Score 0.0592 \tCurrent Score: 0.0000\n",
      "Episode: 25 \tAverage Score 0.0568 \tCurrent Score: 0.0000\n",
      "Episode: 26 \tAverage Score 0.0546 \tCurrent Score: 0.0000\n",
      "Episode: 27 \tAverage Score 0.0526 \tCurrent Score: 0.0000\n",
      "Episode: 28 \tAverage Score 0.0507 \tCurrent Score: 0.0000\n",
      "Episode: 29 \tAverage Score 0.0524 \tCurrent Score: 0.1000\n",
      "Episode: 30 \tAverage Score 0.0537 \tCurrent Score: 0.0900\n",
      "Episode: 31 \tAverage Score 0.0519 \tCurrent Score: 0.0000\n",
      "Episode: 32 \tAverage Score 0.0503 \tCurrent Score: 0.0000\n",
      "Episode: 33 \tAverage Score 0.0488 \tCurrent Score: 0.0000\n",
      "Episode: 34 \tAverage Score 0.0474 \tCurrent Score: 0.0000\n",
      "Episode: 35 \tAverage Score 0.0460 \tCurrent Score: 0.0000\n",
      "Episode: 36 \tAverage Score 0.0447 \tCurrent Score: 0.0000\n",
      "Episode: 37 \tAverage Score 0.0435 \tCurrent Score: 0.0000\n",
      "Episode: 38 \tAverage Score 0.0450 \tCurrent Score: 0.1000\n",
      "Episode: 39 \tAverage Score 0.0487 \tCurrent Score: 0.1900\n",
      "Episode: 40 \tAverage Score 0.0498 \tCurrent Score: 0.0900\n",
      "Episode: 41 \tAverage Score 0.0485 \tCurrent Score: 0.0000\n",
      "Episode: 42 \tAverage Score 0.0498 \tCurrent Score: 0.1000\n",
      "Episode: 43 \tAverage Score 0.0507 \tCurrent Score: 0.0900\n",
      "Episode: 44 \tAverage Score 0.0518 \tCurrent Score: 0.1000\n",
      "Episode: 45 \tAverage Score 0.0529 \tCurrent Score: 0.1000\n",
      "Episode: 46 \tAverage Score 0.0539 \tCurrent Score: 0.1000\n",
      "Episode: 47 \tAverage Score 0.0549 \tCurrent Score: 0.1000\n",
      "Episode: 48 \tAverage Score 0.0558 \tCurrent Score: 0.1000\n",
      "Episode: 49 \tAverage Score 0.0565 \tCurrent Score: 0.0900\n",
      "Episode: 50 \tAverage Score 0.0574 \tCurrent Score: 0.1000\n",
      "Episode: 51 \tAverage Score 0.0582 \tCurrent Score: 0.1000\n",
      "Episode: 52 \tAverage Score 0.0590 \tCurrent Score: 0.1000\n",
      "Episode: 53 \tAverage Score 0.0636 \tCurrent Score: 0.3000\n",
      "Episode: 54 \tAverage Score 0.0643 \tCurrent Score: 0.1000\n",
      "Episode: 55 \tAverage Score 0.0685 \tCurrent Score: 0.3000\n",
      "Episode: 56 \tAverage Score 0.0689 \tCurrent Score: 0.0900\n",
      "Episode: 57 \tAverage Score 0.0695 \tCurrent Score: 0.1000\n",
      "Episode: 58 \tAverage Score 0.0700 \tCurrent Score: 0.1000\n",
      "Episode: 59 \tAverage Score 0.0722 \tCurrent Score: 0.2000\n",
      "Episode: 60 \tAverage Score 0.0727 \tCurrent Score: 0.1000\n",
      "Episode: 61 \tAverage Score 0.0731 \tCurrent Score: 0.1000\n",
      "Episode: 62 \tAverage Score 0.0734 \tCurrent Score: 0.0900\n",
      "Episode: 63 \tAverage Score 0.0738 \tCurrent Score: 0.1000\n",
      "Episode: 64 \tAverage Score 0.0742 \tCurrent Score: 0.1000\n",
      "Episode: 65 \tAverage Score 0.0731 \tCurrent Score: 0.0000\n",
      "Episode: 66 \tAverage Score 0.0780 \tCurrent Score: 0.4000\n",
      "Episode: 67 \tAverage Score 0.0784 \tCurrent Score: 0.1000\n",
      "Episode: 68 \tAverage Score 0.0787 \tCurrent Score: 0.1000\n",
      "Episode: 69 \tAverage Score 0.0862 \tCurrent Score: 0.6000\n",
      "Episode: 70 \tAverage Score 0.0879 \tCurrent Score: 0.2000\n",
      "Episode: 71 \tAverage Score 0.0894 \tCurrent Score: 0.2000\n",
      "Episode: 72 \tAverage Score 0.0910 \tCurrent Score: 0.2000\n",
      "Episode: 73 \tAverage Score 0.0951 \tCurrent Score: 0.3900\n",
      "Episode: 74 \tAverage Score 0.0992 \tCurrent Score: 0.4000\n",
      "Episode: 75 \tAverage Score 0.0992 \tCurrent Score: 0.1000\n",
      "Episode: 76 \tAverage Score 0.1005 \tCurrent Score: 0.2000\n",
      "Episode: 77 \tAverage Score 0.1031 \tCurrent Score: 0.3000\n",
      "Episode: 78 \tAverage Score 0.1056 \tCurrent Score: 0.3000\n",
      "Episode: 79 \tAverage Score 0.1067 \tCurrent Score: 0.1900\n",
      "Episode: 80 \tAverage Score 0.1091 \tCurrent Score: 0.3000\n",
      "Episode: 81 \tAverage Score 0.1163 \tCurrent Score: 0.6900\n",
      "Episode: 82 \tAverage Score 0.1161 \tCurrent Score: 0.1000\n",
      "Episode: 83 \tAverage Score 0.1195 \tCurrent Score: 0.4000\n",
      "Episode: 84 \tAverage Score 0.1193 \tCurrent Score: 0.1000\n",
      "Episode: 85 \tAverage Score 0.1308 \tCurrent Score: 1.1000\n",
      "Episode: 86 \tAverage Score 0.1537 \tCurrent Score: 2.1000\n",
      "Episode: 87 \tAverage Score 0.1554 \tCurrent Score: 0.3000\n",
      "Episode: 88 \tAverage Score 0.1536 \tCurrent Score: 0.0000\n",
      "Episode: 89 \tAverage Score 0.1564 \tCurrent Score: 0.4000\n",
      "Episode: 90 \tAverage Score 0.1613 \tCurrent Score: 0.6000\n",
      "Episode: 91 \tAverage Score 0.1870 \tCurrent Score: 2.5000\n",
      "Episode: 92 \tAverage Score 0.2002 \tCurrent Score: 1.4000\n",
      "Episode: 93 \tAverage Score 0.2110 \tCurrent Score: 1.2000\n",
      "Episode: 94 \tAverage Score 0.2257 \tCurrent Score: 1.6000\n",
      "Episode: 95 \tAverage Score 0.2507 \tCurrent Score: 2.6000\n",
      "Episode: 96 \tAverage Score 0.2627 \tCurrent Score: 1.4000\n",
      "Episode: 97 \tAverage Score 0.2806 \tCurrent Score: 2.0000\n",
      "Episode: 98 \tAverage Score 0.2818 \tCurrent Score: 0.4000\n",
      "Episode: 99 \tAverage Score 0.2941 \tCurrent Score: 1.5000\n",
      "Episode: 100 \tAverage Score 0.3172 \tCurrent Score: 2.6000\n",
      "Episode: 100 \tAverage Score 0.3172 \tCurrent Score: 2.6000\n",
      "Episode: 101 \tAverage Score 0.3192 \tCurrent Score: 0.4000\n",
      "Episode: 102 \tAverage Score 0.3202 \tCurrent Score: 0.2000\n",
      "Episode: 103 \tAverage Score 0.3212 \tCurrent Score: 0.2000\n",
      "Episode: 104 \tAverage Score 0.3262 \tCurrent Score: 0.5000\n",
      "Episode: 105 \tAverage Score 0.3272 \tCurrent Score: 0.1000\n",
      "Episode: 106 \tAverage Score 0.3292 \tCurrent Score: 0.3000\n",
      "Episode: 107 \tAverage Score 0.3302 \tCurrent Score: 0.1000\n",
      "Episode: 108 \tAverage Score 0.3422 \tCurrent Score: 1.2900\n",
      "Episode: 109 \tAverage Score 0.3452 \tCurrent Score: 0.3000\n",
      "Episode: 110 \tAverage Score 0.3482 \tCurrent Score: 0.4000\n",
      "Episode: 111 \tAverage Score 0.3503 \tCurrent Score: 0.3000\n",
      "Episode: 112 \tAverage Score 0.3524 \tCurrent Score: 0.3000\n",
      "Episode: 113 \tAverage Score 0.3535 \tCurrent Score: 0.2000\n",
      "Episode: 114 \tAverage Score 0.3605 \tCurrent Score: 0.7900\n",
      "Episode: 115 \tAverage Score 0.3636 \tCurrent Score: 0.4000\n",
      "Episode: 116 \tAverage Score 0.3646 \tCurrent Score: 0.2000\n",
      "Episode: 117 \tAverage Score 0.3746 \tCurrent Score: 1.0000\n",
      "Episode: 118 \tAverage Score 0.3757 \tCurrent Score: 0.2000\n",
      "Episode: 119 \tAverage Score 0.3828 \tCurrent Score: 0.8000\n",
      "Episode: 120 \tAverage Score 0.3908 \tCurrent Score: 0.8000\n",
      "Episode: 121 \tAverage Score 0.3947 \tCurrent Score: 0.3900\n",
      "Episode: 122 \tAverage Score 0.3977 \tCurrent Score: 0.3000\n",
      "Episode: 123 \tAverage Score 0.4086 \tCurrent Score: 1.0900\n",
      "Episode: 124 \tAverage Score 0.4166 \tCurrent Score: 0.8000\n",
      "Episode: 125 \tAverage Score 0.4176 \tCurrent Score: 0.1000\n",
      "Episode: 126 \tAverage Score 0.4216 \tCurrent Score: 0.4000\n",
      "Episode: 127 \tAverage Score 0.4325 \tCurrent Score: 1.0900\n",
      "Episode: 128 \tAverage Score 0.4335 \tCurrent Score: 0.1000\n",
      "Episode: 129 \tAverage Score 0.4345 \tCurrent Score: 0.2000\n",
      "Episode: 130 \tAverage Score 0.4386 \tCurrent Score: 0.5000\n",
      "Episode: 131 \tAverage Score 0.4416 \tCurrent Score: 0.3000\n",
      "Episode: 132 \tAverage Score 0.4506 \tCurrent Score: 0.9000\n",
      "Episode: 133 \tAverage Score 0.4516 \tCurrent Score: 0.1000\n",
      "Episode: 134 \tAverage Score 0.4696 \tCurrent Score: 1.8000\n",
      "Episode: 135 \tAverage Score 0.4706 \tCurrent Score: 0.1000\n",
      "Episode: 136 \tAverage Score 0.4775 \tCurrent Score: 0.6900\n",
      "Episode: 137 \tAverage Score 0.4795 \tCurrent Score: 0.2000\n",
      "Episode: 138 \tAverage Score 0.5035 \tCurrent Score: 2.5000\n"
     ]
    }
   ],
   "source": [
    "scores = train()"
   ]
  },
  {
   "cell_type": "code",
   "execution_count": 32,
   "metadata": {},
   "outputs": [
    {
     "data": {
      "image/png": "[encoded data removed]",
      "text/plain": [
       "<Figure size 432x288 with 1 Axes>"
      ]
     },
     "metadata": {
      "needs_background": "light"
     },
     "output_type": "display_data"
    }
   ],
   "source": [
    "# plot the scores\n",
    "fig = plt.figure()\n",
    "ax = fig.add_subplot(111)\n",
    "plt.plot(np.arange(len(scores)), scores)\n",
    "plt.ylabel('Score')\n",
    "plt.xlabel('Episode #')\n",
    "plt.title(\"Scores\")\n",
    "plt.show()"
   ]
  },
  {
   "cell_type": "code",
   "execution_count": 33,
   "metadata": {},
   "outputs": [
    {
     "data": {
      "image/png": "[encoded data removed]",
      "text/plain": [
       "<Figure size 432x288 with 1 Axes>"
      ]
     },
     "metadata": {
      "needs_background": "light"
     },
     "output_type": "display_data"
    }
   ],
   "source": [
    "# plot the scores\n",
    "test = [scores[0]]\n",
    "for t in range(1,len(scores)):\n",
    "    test.append(sum(scores[:t])/t)\n",
    "fig = plt.figure()\n",
    "ax = fig.add_subplot(111)\n",
    "plt.plot(np.arange(len(scores)), test)\n",
    "plt.ylabel('Score')\n",
    "plt.xlabel('Episode #')\n",
    "plt.title(\"Rolling Means\")\n",
    "plt.show()"
   ]
  },
  {
   "cell_type": "code",
   "execution_count": 34,
   "metadata": {},
   "outputs": [],
   "source": [
    "agents = MADDPG(num_agents, state_dim, action_dim, random_seed)\n",
    "agents.loadCheckPoints(isFinal=True)"
   ]
  },
  {
   "cell_type": "code",
   "execution_count": 35,
   "metadata": {},
   "outputs": [],
   "source": [
    "scores = []\n",
    "\n",
    "def play():\n",
    "    for x in range(0, 100):\n",
    "        env_info = env.reset(train_mode=True)[brain_name]\n",
    "        states = env_info.vector_observations\n",
    "        scores_episode = np.zeros(num_agents)\n",
    "        \n",
    "        while True:\n",
    "            actions = agents.act(states)\n",
    "            env_info = env.step(actions)[brain_name]\n",
    "            next_states = env_info.vector_observations\n",
    "            rewards = env_info.rewards\n",
    "            dones = env_info.local_done\n",
    "            \n",
    "            scores_episode += rewards\n",
    "            states = next_states\n",
    "            \n",
    "            if np.any(dones):\n",
    "                break\n",
    "        \n",
    "        score = np.max(scores_episode)\n",
    "        scores.append(score)\n",
    "        print(f'Episode: {x} \\tAverage Score {np.mean(scores):.4f} \\tCurrent Score: {score:.4f}')\n",
    "    \n",
    "    return scores\n",
    "        \n",
    "        "
   ]
  },
  {
   "cell_type": "code",
   "execution_count": null,
   "metadata": {},
   "outputs": [
    {
     "name": "stdout",
     "output_type": "stream",
     "text": [
      "Episode: 0 \tAverage Score 1.3000 \tCurrent Score: 1.3000\n",
      "Episode: 1 \tAverage Score 1.5000 \tCurrent Score: 1.7000\n",
      "Episode: 2 \tAverage Score 1.7333 \tCurrent Score: 2.2000\n",
      "Episode: 3 \tAverage Score 1.3500 \tCurrent Score: 0.2000\n",
      "Episode: 4 \tAverage Score 1.1200 \tCurrent Score: 0.2000\n",
      "Episode: 5 \tAverage Score 1.2500 \tCurrent Score: 1.9000\n",
      "Episode: 6 \tAverage Score 1.1271 \tCurrent Score: 0.3900\n",
      "Episode: 7 \tAverage Score 0.9988 \tCurrent Score: 0.1000\n",
      "Episode: 8 \tAverage Score 1.0989 \tCurrent Score: 1.9000\n",
      "Episode: 9 \tAverage Score 1.1490 \tCurrent Score: 1.6000\n",
      "Episode: 10 \tAverage Score 1.0536 \tCurrent Score: 0.1000\n",
      "Episode: 11 \tAverage Score 0.9825 \tCurrent Score: 0.2000\n",
      "Episode: 12 \tAverage Score 0.9762 \tCurrent Score: 0.9000\n",
      "Episode: 13 \tAverage Score 0.9207 \tCurrent Score: 0.2000\n",
      "Episode: 14 \tAverage Score 0.8660 \tCurrent Score: 0.1000\n",
      "Episode: 15 \tAverage Score 0.8181 \tCurrent Score: 0.1000\n",
      "Episode: 16 \tAverage Score 0.9229 \tCurrent Score: 2.6000\n",
      "Episode: 17 \tAverage Score 1.0161 \tCurrent Score: 2.6000\n",
      "Episode: 18 \tAverage Score 1.0521 \tCurrent Score: 1.7000\n",
      "Episode: 19 \tAverage Score 1.0545 \tCurrent Score: 1.1000\n",
      "Episode: 20 \tAverage Score 1.1281 \tCurrent Score: 2.6000\n",
      "Episode: 21 \tAverage Score 1.1086 \tCurrent Score: 0.7000\n",
      "Episode: 22 \tAverage Score 1.1735 \tCurrent Score: 2.6000\n",
      "Episode: 23 \tAverage Score 1.1621 \tCurrent Score: 0.9000\n",
      "Episode: 24 \tAverage Score 1.1196 \tCurrent Score: 0.1000\n",
      "Episode: 25 \tAverage Score 1.0842 \tCurrent Score: 0.2000\n",
      "Episode: 26 \tAverage Score 1.1404 \tCurrent Score: 2.6000\n",
      "Episode: 27 \tAverage Score 1.1925 \tCurrent Score: 2.6000\n",
      "Episode: 28 \tAverage Score 1.1686 \tCurrent Score: 0.5000\n",
      "Episode: 29 \tAverage Score 1.1363 \tCurrent Score: 0.2000\n",
      "Episode: 30 \tAverage Score 1.1094 \tCurrent Score: 0.3000\n",
      "Episode: 31 \tAverage Score 1.1309 \tCurrent Score: 1.8000\n",
      "Episode: 32 \tAverage Score 1.1755 \tCurrent Score: 2.6000\n",
      "Episode: 33 \tAverage Score 1.2203 \tCurrent Score: 2.7000\n",
      "Episode: 34 \tAverage Score 1.1854 \tCurrent Score: 0.0000\n",
      "Episode: 35 \tAverage Score 1.2247 \tCurrent Score: 2.6000\n",
      "Episode: 36 \tAverage Score 1.2646 \tCurrent Score: 2.7000\n",
      "Episode: 37 \tAverage Score 1.2576 \tCurrent Score: 1.0000\n",
      "Episode: 38 \tAverage Score 1.2921 \tCurrent Score: 2.6000\n",
      "Episode: 39 \tAverage Score 1.3248 \tCurrent Score: 2.6000\n",
      "Episode: 40 \tAverage Score 1.3583 \tCurrent Score: 2.7000\n",
      "Episode: 41 \tAverage Score 1.3902 \tCurrent Score: 2.7000\n",
      "Episode: 42 \tAverage Score 1.3693 \tCurrent Score: 0.4900\n",
      "Episode: 43 \tAverage Score 1.3564 \tCurrent Score: 0.8000\n",
      "Episode: 44 \tAverage Score 1.3840 \tCurrent Score: 2.6000\n",
      "Episode: 45 \tAverage Score 1.4104 \tCurrent Score: 2.6000\n",
      "Episode: 46 \tAverage Score 1.4315 \tCurrent Score: 2.4000\n",
      "Episode: 47 \tAverage Score 1.4079 \tCurrent Score: 0.3000\n",
      "Episode: 48 \tAverage Score 1.4322 \tCurrent Score: 2.6000\n",
      "Episode: 49 \tAverage Score 1.4556 \tCurrent Score: 2.6000\n",
      "Episode: 50 \tAverage Score 1.4800 \tCurrent Score: 2.7000\n",
      "Episode: 51 \tAverage Score 1.4667 \tCurrent Score: 0.7900\n",
      "Episode: 52 \tAverage Score 1.4560 \tCurrent Score: 0.9000\n",
      "Episode: 53 \tAverage Score 1.4531 \tCurrent Score: 1.3000\n",
      "Episode: 54 \tAverage Score 1.4740 \tCurrent Score: 2.6000\n",
      "Episode: 55 \tAverage Score 1.4477 \tCurrent Score: 0.0000\n",
      "Episode: 56 \tAverage Score 1.4433 \tCurrent Score: 1.2000\n",
      "Episode: 57 \tAverage Score 1.4633 \tCurrent Score: 2.6000\n",
      "Episode: 58 \tAverage Score 1.4842 \tCurrent Score: 2.7000\n",
      "Episode: 59 \tAverage Score 1.4710 \tCurrent Score: 0.6900\n",
      "Episode: 60 \tAverage Score 1.4534 \tCurrent Score: 0.4000\n",
      "Episode: 61 \tAverage Score 1.4719 \tCurrent Score: 2.6000\n",
      "Episode: 62 \tAverage Score 1.4486 \tCurrent Score: 0.0000\n",
      "Episode: 63 \tAverage Score 1.4338 \tCurrent Score: 0.5000\n",
      "Episode: 64 \tAverage Score 1.4517 \tCurrent Score: 2.6000\n",
      "Episode: 65 \tAverage Score 1.4388 \tCurrent Score: 0.6000\n",
      "Episode: 66 \tAverage Score 1.4472 \tCurrent Score: 2.0000\n",
      "Episode: 67 \tAverage Score 1.4641 \tCurrent Score: 2.6000\n",
      "Episode: 68 \tAverage Score 1.4574 \tCurrent Score: 1.0000\n",
      "Episode: 69 \tAverage Score 1.4737 \tCurrent Score: 2.6000\n",
      "Episode: 70 \tAverage Score 1.4669 \tCurrent Score: 0.9900\n",
      "Episode: 71 \tAverage Score 1.4826 \tCurrent Score: 2.6000\n",
      "Episode: 72 \tAverage Score 1.4623 \tCurrent Score: 0.0000\n",
      "Episode: 73 \tAverage Score 1.4465 \tCurrent Score: 0.2900\n",
      "Episode: 74 \tAverage Score 1.4445 \tCurrent Score: 1.3000\n",
      "Episode: 75 \tAverage Score 1.4597 \tCurrent Score: 2.6000\n",
      "Episode: 76 \tAverage Score 1.4434 \tCurrent Score: 0.2000\n",
      "Episode: 77 \tAverage Score 1.4569 \tCurrent Score: 2.5000\n",
      "Episode: 78 \tAverage Score 1.4423 \tCurrent Score: 0.3000\n",
      "Episode: 79 \tAverage Score 1.4318 \tCurrent Score: 0.6000\n",
      "Episode: 80 \tAverage Score 1.4153 \tCurrent Score: 0.1000\n",
      "Episode: 81 \tAverage Score 1.4054 \tCurrent Score: 0.6000\n",
      "Episode: 82 \tAverage Score 1.3896 \tCurrent Score: 0.1000\n",
      "Episode: 83 \tAverage Score 1.4040 \tCurrent Score: 2.6000\n",
      "Episode: 84 \tAverage Score 1.4193 \tCurrent Score: 2.7000\n",
      "Episode: 85 \tAverage Score 1.4040 \tCurrent Score: 0.1000\n",
      "Episode: 86 \tAverage Score 1.4051 \tCurrent Score: 1.5000\n",
      "Episode: 87 \tAverage Score 1.3936 \tCurrent Score: 0.4000\n",
      "Episode: 88 \tAverage Score 1.4072 \tCurrent Score: 2.6000\n",
      "Episode: 89 \tAverage Score 1.4103 \tCurrent Score: 1.6900\n",
      "Episode: 90 \tAverage Score 1.3992 \tCurrent Score: 0.4000\n",
      "Episode: 91 \tAverage Score 1.3862 \tCurrent Score: 0.2000\n",
      "Episode: 92 \tAverage Score 1.3992 \tCurrent Score: 2.6000\n"
     ]
    }
   ],
   "source": [
    "scores = play()"
   ]
  },
  {
   "cell_type": "code",
   "execution_count": 27,
   "metadata": {},
   "outputs": [
    {
     "data": {
      "image/png": "[encoded data removed]",
      "text/plain": [
       "<Figure size 432x288 with 1 Axes>"
      ]
     },
     "metadata": {
      "needs_background": "light"
     },
     "output_type": "display_data"
    }
   ],
   "source": [
    "# plot the scores\n",
    "fig = plt.figure()\n",
    "ax = fig.add_subplot(111)\n",
    "plt.plot(np.arange(len(scores)), scores)\n",
    "plt.ylabel('Score')\n",
    "plt.xlabel('Episode #')\n",
    "plt.title(\"Scores\")\n",
    "plt.show()"
   ]
  },
  {
   "cell_type": "code",
   "execution_count": 28,
   "metadata": {},
   "outputs": [
    {
     "data": {
      "image/png": "[encoded data removed]",
      "text/plain": [
       "<Figure size 432x288 with 1 Axes>"
      ]
     },
     "metadata": {
      "needs_background": "light"
     },
     "output_type": "display_data"
    }
   ],
   "source": [
    "# plot the scores\n",
    "test = [scores[0]]\n",
    "for t in range(1,len(scores)):\n",
    "    test.append(sum(scores[:t])/t)\n",
    "fig = plt.figure()\n",
    "ax = fig.add_subplot(111)\n",
    "plt.plot(np.arange(len(scores)), test)\n",
    "plt.ylabel('Score')\n",
    "plt.xlabel('Episode #')\n",
    "plt.title(\"Rolling Means\")\n",
    "plt.show()"
   ]
  },
  {
   "cell_type": "code",
   "execution_count": 17,
   "metadata": {},
   "outputs": [],
   "source": [
    "env.close()"
   ]
  }
 ],
 "metadata": {
  "kernelspec": {
   "display_name": "Python 3",
   "language": "python",
   "name": "python3"
  },
  "language_info": {
   "codemirror_mode": {
    "name": "ipython",
    "version": 3
   },
   "file_extension": ".py",
   "mimetype": "text/x-python",
   "name": "python",
   "nbconvert_exporter": "python",
   "pygments_lexer": "ipython3",
   "version": "3.6.12"
  }
 },
 "nbformat": 4,
 "nbformat_minor": 2
}
